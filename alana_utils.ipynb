{
 "cells": [
  {
   "cell_type": "markdown",
   "id": "a7295f08-53c1-4d6d-8b8b-37b8bc05cae0",
   "metadata": {},
   "source": [
    "## Here is the description of the util methods created and used by Alana:"
   ]
  },
  {
   "cell_type": "code",
   "execution_count": null,
   "id": "989fec49-7667-4ff8-a90d-a71bc2d46e31",
   "metadata": {},
   "outputs": [],
   "source": []
  }
 ],
 "metadata": {
  "kernelspec": {
   "display_name": "Python 3 (ipykernel)",
   "language": "python",
   "name": "python3"
  },
  "language_info": {
   "codemirror_mode": {
    "name": "ipython",
    "version": 3
   },
   "file_extension": ".py",
   "mimetype": "text/x-python",
   "name": "python",
   "nbconvert_exporter": "python",
   "pygments_lexer": "ipython3",
   "version": "3.9.21"
  }
 },
 "nbformat": 4,
 "nbformat_minor": 5
}
