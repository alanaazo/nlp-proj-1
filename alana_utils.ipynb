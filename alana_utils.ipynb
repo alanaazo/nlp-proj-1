{
 "cells": [
  {
   "cell_type": "markdown",
   "id": "a7295f08-53c1-4d6d-8b8b-37b8bc05cae0",
   "metadata": {},
   "source": [
    "## Here is the description of the util methods created and used by Alana:"
   ]
  },
  {
   "cell_type": "markdown",
   "id": "4ca965a1",
   "metadata": {},
   "source": [
    "+ I created file Utils_lstm specifically for LSTM model because of version incompatibilities with gensim package of word2vec\n",
    "+ Method avg_embedding(text, model, size) to calculate average embedding vectors\n",
    "+ Method create_w2v_features to apply Word2Vec to the dataset\n",
    "+ Method create_tfidf_features to apply tf idf to the dataset\n",
    "+ Method texts_to_padded to tokenize text for LSTM with tensorflow built-in tokenizer"
   ]
  }
 ],
 "metadata": {
  "kernelspec": {
   "display_name": "Python 3 (ipykernel)",
   "language": "python",
   "name": "python3"
  },
  "language_info": {
   "codemirror_mode": {
    "name": "ipython",
    "version": 3
   },
   "file_extension": ".py",
   "mimetype": "text/x-python",
   "name": "python",
   "nbconvert_exporter": "python",
   "pygments_lexer": "ipython3",
   "version": "3.9.21"
  }
 },
 "nbformat": 4,
 "nbformat_minor": 5
}
