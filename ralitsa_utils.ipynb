{
 "cells": [
  {
   "cell_type": "markdown",
   "id": "3dec6684-70d9-466b-8d4c-6a52a5f1d2de",
   "metadata": {},
   "source": [
    "## Here are the utils methods and their descriptions by Ralitsa"
   ]
  },
  {
   "cell_type": "markdown",
   "id": "b37da694-1f7d-4f16-8c53-3d64bab46103",
   "metadata": {},
   "source": [
    "Custom TFIDF_Vectorizer class which returns a sparce matrix for the custom implemented TFIDF. It uses a Counter dictionary instead of a normal dictionary for optimization purposes:\n",
    "class TFIDF_Vectorizer:\n",
    "    def __init__(self, max_features=None):\n",
    "\n",
    "    def fit(self, data):\n",
    "\n",
    "    def transform(self, data):\n",
    "\n",
    "    def fit_transform(self, data):\n",
    "\n",
    "Custom implemenmtation of the cosinus similarity between vectors\n",
    "def cosine_similarity_vectors(vec1, vec2):\n",
    "\n",
    "Custom implemenmtation of the euclidean distance similarity between vectors\n",
    "def euclidean_distance_vectors(vec1, vec2):\n",
    "\n",
    "Method to save a model to a desired path with a desired name\n",
    "def save_model(model, path=\"models\", filename=\"model.pkl\"):\n",
    "\n",
    "Method to load model... \n",
    "def load_model(path=\"models\", filename=\"model.pkl\"):\n",
    "\n",
    "And one to check if a model with this name exists in the provided path.\n",
    "def check_model_saved(path=\"models\", filename=\"model.pkl\"):\n",
    "\n",
    "Combines the logicx for translartion to string with lowercasing and strip.\n",
    "def clean_text(text):\n",
    "\n",
    "Using a vectorizer of your choice, that has been trained to create character n-gram features,\n",
    "and two questions, calculate the cosine similarity \n",
    "def char_ngram_similarity(q1, q2, vectorizer):\n",
    "\n",
    "\n",
    "An array to be used for one of the features which represents whether the question 1 and question 2 start with any opf\n",
    "these popular question words:\n",
    "start_words = ['how', 'can', 'what', 'why', 'are', 'do', 'does', 'is', 'should', 'could']\n",
    "\n",
    "Helper method for the feature of starting word: \n",
    "def starts_with_indicator(text):\n",
    "\n",
    "Method to calculate the Jackard similarity between two questions\n",
    "def jaccard_similarity(q1, q2):\n",
    "\n",
    "Unfortunately not used, due to version hell, mismatch between versions of numpy, gensim and scipy....\n",
    "\n",
    "#def gensim_preprocess_en(texts):\n",
    "\n",
    "#def get_embedding(model, dictionary, text):\n",
    "\n",
    "#def compute_similarity_features(q1_list, q2_list, model, dictionary):\n",
    "\n"
   ]
  }
 ],
 "metadata": {
  "kernelspec": {
   "display_name": "Python 3 (ipykernel)",
   "language": "python",
   "name": "python3"
  },
  "language_info": {
   "codemirror_mode": {
    "name": "ipython",
    "version": 3
   },
   "file_extension": ".py",
   "mimetype": "text/x-python",
   "name": "python",
   "nbconvert_exporter": "python",
   "pygments_lexer": "ipython3",
   "version": "3.9.21"
  }
 },
 "nbformat": 4,
 "nbformat_minor": 5
}
