{
 "cells": [
  {
   "cell_type": "markdown",
   "id": "3dec6684-70d9-466b-8d4c-6a52a5f1d2de",
   "metadata": {},
   "source": [
    "## Here are the utils methods and their descriptions by Ralitsa"
   ]
  },
  {
   "cell_type": "markdown",
   "id": "b37da694-1f7d-4f16-8c53-3d64bab46103",
   "metadata": {},
   "source": [
    "Custom TFIDF_Vectorizer class which returns a sparce matrix for the custom implemented TFIDF. It uses a Counter dictionary instead of a normal dictionary for optimization purposes:\n",
    "class TFIDF_Vectorizer:\n",
    "    def __init__(self, max_features=None):\n",
    "\n",
    "    def fit(self, data):\n",
    "\n",
    "    def transform(self, data):\n",
    "\n",
    "    def fit_transform(self, data):\n",
    "\n",
    "Custom implemenmtation of the cosinus similarity between vectors\n",
    "def cosine_similarity_vectors(vec1, vec2):\n",
    "\n",
    "Custom implemenmtation of the euclidean distance similarity between vectors\n",
    "def euclidean_distance_vectors(vec1, vec2):\n",
    "\n",
    "Method to save a model to a desired path with a desired name\n",
    "def save_model(model, path=\"models\", filename=\"model.pkl\"):\n",
    "\n",
    "Method to load model... \n",
    "def load_model(path=\"models\", filename=\"model.pkl\"):\n"
   ]
  },
  {
   "cell_type": "code",
   "execution_count": null,
   "id": "14c434d8-3672-471a-98c5-f6d1f0d97220",
   "metadata": {},
   "outputs": [],
   "source": []
  }
 ],
 "metadata": {
  "kernelspec": {
   "display_name": "Python 3 (ipykernel)",
   "language": "python",
   "name": "python3"
  },
  "language_info": {
   "codemirror_mode": {
    "name": "ipython",
    "version": 3
   },
   "file_extension": ".py",
   "mimetype": "text/x-python",
   "name": "python",
   "nbconvert_exporter": "python",
   "pygments_lexer": "ipython3",
   "version": "3.9.21"
  }
 },
 "nbformat": 4,
 "nbformat_minor": 5
}
