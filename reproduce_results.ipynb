{
 "cells": [
  {
   "cell_type": "markdown",
   "id": "dfbefdf2-399f-4bf8-ab1d-7e1a7b6a3a34",
   "metadata": {},
   "source": [
    "## Reproduce the results using the models trained and stored in the models folder:"
   ]
  },
  {
   "cell_type": "code",
   "execution_count": 1,
   "id": "55ae034c-6354-4589-8ed6-dcb94b4b7518",
   "metadata": {},
   "outputs": [],
   "source": [
    "from Utils import *"
   ]
  },
  {
   "cell_type": "code",
   "execution_count": 5,
   "id": "3dd27b8b-97a0-4130-8047-b359dd24d7b5",
   "metadata": {},
   "outputs": [],
   "source": [
    "models_path='models' #TODO: change to what theacher wants"
   ]
  },
  {
   "cell_type": "markdown",
   "id": "7a89cdfd-6fdf-4d12-aad0-c557aeb339d4",
   "metadata": {},
   "source": [
    "## 1. Load the teachers baseline model and print accuracy:"
   ]
  },
  {
   "cell_type": "code",
   "execution_count": 9,
   "id": "547bbb76-58ee-4b90-bf0a-03a9104f9064",
   "metadata": {},
   "outputs": [
    {
     "name": "stdout",
     "output_type": "stream",
     "text": [
      "val_df.shape= (15363, 6)\n",
      "test_df.shape= (16172, 6)\n"
     ]
    }
   ],
   "source": [
    "# Create validation and test partitions\n",
    "quora_df = pd.read_csv(\"./quora_data.csv\")\n",
    "A_df, test_df = sklearn.model_selection.train_test_split(quora_df, test_size=0.05, random_state=123)\n",
    "train_df, val_df = sklearn.model_selection.train_test_split(A_df, test_size=0.05)\n",
    "print('val_df.shape=',val_df.shape)\n",
    "print('test_df.shape=',test_df.shape)\n",
    "\n",
    "y_val = val_df[\"is_duplicate\"].values\n",
    "\n",
    "# cast to list taking care of nans:\n",
    "q1_val =  cast_list_as_strings(list(val_df[\"question1\"]))\n",
    "q2_val =  cast_list_as_strings(list(val_df[\"question2\"]))\n",
    "q1_test  =  cast_list_as_strings(list(test_df[\"question1\"]))\n",
    "q2_test  =  cast_list_as_strings(list(test_df[\"question2\"]))"
   ]
  },
  {
   "cell_type": "markdown",
   "id": "292b4ad4-686d-4ec7-bac7-9bba4e728c5b",
   "metadata": {},
   "source": [
    "Load Teachers baseline ad the vectoirizer used:"
   ]
  },
  {
   "cell_type": "code",
   "execution_count": 10,
   "id": "5f392c1c-2686-4f12-9146-c7c51616bb5c",
   "metadata": {},
   "outputs": [
    {
     "name": "stdout",
     "output_type": "stream",
     "text": [
      "Model loaded from models/teacher_baseline.pkl\n",
      "Model loaded from models/count_vectorizer.pkl\n"
     ]
    }
   ],
   "source": [
    "logistic = load_model(path=models_path, filename=\"teacher_baseline.pkl\")\n",
    "count_vectorizer = load_model(path=models_path, filename=\"count_vectorizer.pkl\")"
   ]
  },
  {
   "cell_type": "markdown",
   "id": "17d2f336-ed7e-4cca-8a49-406c391210ff",
   "metadata": {},
   "source": [
    "And now evaluate on the VALIDATION set:"
   ]
  },
  {
   "cell_type": "code",
   "execution_count": 11,
   "id": "18151bfd-2ed5-43a4-ab2c-7fe7bd5a8e5d",
   "metadata": {},
   "outputs": [
    {
     "name": "stdout",
     "output_type": "stream",
     "text": [
      "Accuracy with count vectoriser: 0.8082\n"
     ]
    }
   ],
   "source": [
    "from sklearn.metrics import accuracy_score\n",
    "\n",
    "#get the validation feature for the count vectorizer:\n",
    "X_val_q1q2 = get_features_from_df(val_df, count_vectorizer)\n",
    "\n",
    "#accuracy of the regr with count vectorizer\n",
    "y_pred = logistic.predict(X_val_q1q2)\n",
    "accuracy = accuracy_score(y_val, y_pred)\n",
    "print(f\"Accuracy with count vectoriser: {accuracy:.4f}\")"
   ]
  },
  {
   "cell_type": "markdown",
   "id": "c84ec611-d8c7-49e0-a76b-c4bf26504ce1",
   "metadata": {},
   "source": [
    "## 2. Using custom TFIDF_Vectorizer:"
   ]
  },
  {
   "cell_type": "code",
   "execution_count": 13,
   "id": "bd8339d1-400e-4442-b0bc-9a728690009d",
   "metadata": {},
   "outputs": [
    {
     "name": "stdout",
     "output_type": "stream",
     "text": [
      "Model loaded from models/custom_tfidf_logreg.pkl\n",
      "Model loaded from models/custom_tfidf_vectorizer.pkl\n"
     ]
    }
   ],
   "source": [
    "#load model and vectorizer:\n",
    "logistic2 = load_model(models_path, \"custom_tfidf_logreg.pkl\")\n",
    "custom_vectorizer = load_model(models_path, \"custom_tfidf_vectorizer.pkl\")"
   ]
  },
  {
   "cell_type": "code",
   "execution_count": 14,
   "id": "6e1ec567-3350-4060-b6ad-3be0bdeec91f",
   "metadata": {},
   "outputs": [
    {
     "name": "stdout",
     "output_type": "stream",
     "text": [
      "Accuracy new approach with custom TFIDF vectorizer: 0.8563\n"
     ]
    }
   ],
   "source": [
    "from sklearn.metrics import accuracy_score\n",
    "\n",
    "X_val_q1q2_tfidf = get_features_from_df_tfidf(val_df, custom_vectorizer)\n",
    "\n",
    "y_pred = logistic2.predict(X_val_q1q2_tfidf)\n",
    "accuracy = accuracy_score(y_val, y_pred)\n",
    "print(f\"Accuracy new approach with custom TFIDF vectorizer: {accuracy:.4f}\")"
   ]
  },
  {
   "cell_type": "code",
   "execution_count": null,
   "id": "7b7f0c35-d23b-49e6-90cb-e4e04a5d1940",
   "metadata": {},
   "outputs": [],
   "source": []
  }
 ],
 "metadata": {
  "kernelspec": {
   "display_name": "Python 3 (ipykernel)",
   "language": "python",
   "name": "python3"
  },
  "language_info": {
   "codemirror_mode": {
    "name": "ipython",
    "version": 3
   },
   "file_extension": ".py",
   "mimetype": "text/x-python",
   "name": "python",
   "nbconvert_exporter": "python",
   "pygments_lexer": "ipython3",
   "version": "3.9.21"
  }
 },
 "nbformat": 4,
 "nbformat_minor": 5
}
